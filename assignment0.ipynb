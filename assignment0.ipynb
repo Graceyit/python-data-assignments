{
 "cells": [
  {
   "cell_type": "code",
   "execution_count": null,
   "metadata": {},
   "outputs": [],
   "source": [
    "import csv\n",
    "articles=['trade-wars-news1.txt',\n",
    "        'trade-wars-news2.txt',\n",
    "        'trade-wars-news3.txt',\n",
    "        'trade-wars-news4.txt',\n",
    "        'trade-wars-news5.txt']\n",
    "\n",
    "all_articles=[]\n",
    "for article in articles:\n",
    "    f=open (article,'r')     \n",
    "    content= f.read()\n",
    "    all_articles.append(content)\n",
    "\n",
    "all_words = []\n",
    "for i in range(5):\n",
    "    words = all_articles[i].split()  \n",
    "    for all_word in words:\n",
    "        all_words.append(all_word)\n",
    "\n",
    "\n",
    "from collections import Counter\n",
    "cnt=Counter()\n",
    "for i in all_words:\n",
    "    cnt[i]+=1\n",
    "    \n",
    "ranking=sorted(cnt.items(),key=lambda d: d[1],reverse=True) \n",
    "result=ranking[0:15]\n",
    "\n",
    "with open('count_words.csv','w')as f:\n",
    "    mywriter=csv.writer(f)\n",
    "    header=['word','frequency']\n",
    "    mywriter.writerow(header)\n",
    "    mywriter.writerows(result)"
   ]
  }
 ],
 "metadata": {
  "kernelspec": {
   "display_name": "Python 3",
   "language": "python",
   "name": "python3"
  },
  "language_info": {
   "codemirror_mode": {
    "name": "ipython",
    "version": 3
   },
   "file_extension": ".py",
   "mimetype": "text/x-python",
   "name": "python",
   "nbconvert_exporter": "python",
   "pygments_lexer": "ipython3",
   "version": "3.6.5"
  }
 },
 "nbformat": 4,
 "nbformat_minor": 2
}
