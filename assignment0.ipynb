{
 "cells": [
  {
   "cell_type": "code",
   "execution_count": null,
   "metadata": {},
   "outputs": [],
   "source": [
    "import csv\n",
    "articles=['trade-wars-news1.txt',#所有文章的list 为了for循环\n",
    "        'trade-wars-news2.txt',\n",
    "        'trade-wars-news3.txt',\n",
    "        'trade-wars-news4.txt',\n",
    "        'trade-wars-news5.txt']\n",
    "\n",
    "all_articles=[]\n",
    "for article in articles:#分别把trade-wars-news1，2，3，4，5进行循环\n",
    "    f=open (article,'r')#读取 第1，2，3，4，5篇       \n",
    "    content= f.read()#把读取的内容赋给content\n",
    "    all_articles.append(content)#增加到all_articles这个list里\n",
    "#all_articles#输出的内容是5篇文章的内容\n",
    "all_words = []#接下来是列出5篇文章的所有单词\n",
    "for i in range(5):\n",
    "    words = all_articles[i].split() #.split（） \n",
    "    for all_word in words:\n",
    "        all_words.append(all_word)#这样子len(all_words)---list : 5602\n",
    "#    all_words.append(words)#----这样子len(all_words)---list : 5\n",
    "\n",
    "from collections import Counter\n",
    "cnt=Counter()\n",
    "for i in all_words:\n",
    "    cnt[i]+=1\n",
    "    \n",
    "ranking=sorted(cnt.items(),key=lambda d: d[1],reverse=True) #词频排序语法\n",
    "result=ranking[0:15]#保留前15个\n",
    "\n",
    "with open('count_words.csv','w')as f:\n",
    "    mywriter=csv.writer(f)\n",
    "    header=['word','frequency']\n",
    "    mywriter.writerow(header)\n",
    "    mywriter.writerows(result)"
   ]
  }
 ],
 "metadata": {
  "kernelspec": {
   "display_name": "Python 3",
   "language": "python",
   "name": "python3"
  },
  "language_info": {
   "codemirror_mode": {
    "name": "ipython",
    "version": 3
   },
   "file_extension": ".py",
   "mimetype": "text/x-python",
   "name": "python",
   "nbconvert_exporter": "python",
   "pygments_lexer": "ipython3",
   "version": "3.6.5"
  }
 },
 "nbformat": 4,
 "nbformat_minor": 2
}
